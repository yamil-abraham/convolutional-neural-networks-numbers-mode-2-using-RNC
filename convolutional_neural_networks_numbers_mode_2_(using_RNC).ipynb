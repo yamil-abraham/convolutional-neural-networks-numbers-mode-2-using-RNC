{
  "nbformat": 4,
  "nbformat_minor": 0,
  "metadata": {
    "colab": {
      "name": "convolutional neural networks - numbers - mode 2 (using RNC)",
      "provenance": [],
      "authorship_tag": "ABX9TyPV/K6W2lK+ds5prpM7ngDc",
      "include_colab_link": true
    },
    "kernelspec": {
      "name": "python3",
      "display_name": "Python 3"
    },
    "language_info": {
      "name": "python"
    },
    "accelerator": "GPU"
  },
  "cells": [
    {
      "cell_type": "markdown",
      "metadata": {
        "id": "view-in-github",
        "colab_type": "text"
      },
      "source": [
        "<a href=\"https://colab.research.google.com/github/eyamilabraham/convolutional-neural-networks-numbers-mode-2-using-RNC/blob/main/convolutional_neural_networks_numbers_mode_2_(using_RNC).ipynb\" target=\"_parent\"><img src=\"https://colab.research.google.com/assets/colab-badge.svg\" alt=\"Open In Colab\"/></a>"
      ]
    },
    {
      "cell_type": "code",
      "execution_count": 12,
      "metadata": {
        "id": "Oa9GzpASsd7a"
      },
      "outputs": [],
      "source": [
        "import tensorflow as tf\n",
        "import tensorflow_datasets as tfds\n",
        "\n",
        "#Downloading MNIST dataset (handwritten numbers, labeled)\n",
        "data, metadata = tfds.load('mnist', as_supervised=True, with_info=True)\n",
        "\n",
        "#Splitting variables of training (60k) and testing (10k)\n",
        "data_training, data_testing = data['train'], data['test']\n",
        "\n",
        "#Normalizing metadata (transforming from 0-255 to 0-1)\n",
        "#The network learns better and faster\n",
        "def normalize(pictures, labels):\n",
        "  pictures = tf.cast(pictures, tf.float32)\n",
        "  pictures /= 255 #Transforming from 0-255 to 0-1\n",
        "  return pictures, labels\n",
        "\n",
        "#Normalize metadata of training and testing with the above function\n",
        "data_training = data_training.map(normalize)\n",
        "data_testing = data_testing.map(normalize)\n",
        "\n",
        "#Adding to cache (you have to use RAM in case of HDD or SSD, faster training)\n",
        "data_training = data_training.cache()\n",
        "data_testing = data_testing.cache()\n",
        "\n",
        "classes = ['0', '1', '2', '3', '4', '5', '6', '7', '8', '9']"
      ]
    },
    {
      "cell_type": "code",
      "source": [
        "#Code to display pictures from dataset\n",
        "import matplotlib.pyplot as plt\n",
        "\n",
        "plt.figure(figsize=(10,10))\n",
        "\n",
        "for i, (picture, label) in enumerate(data_training.take(25)):\n",
        "  picture = picture.numpy().reshape((28,28))\n",
        "  plt.subplot(5,5,i+1)\n",
        "  plt.xticks([])\n",
        "  plt.yticks([])\n",
        "  plt.grid(False)\n",
        "  plt.imshow(picture, cmap=plt.cm.binary)\n",
        "  plt.xlabel(classes[label])\n",
        "\n",
        "plt.show()  "
      ],
      "metadata": {
        "colab": {
          "base_uri": "https://localhost:8080/",
          "height": 589
        },
        "id": "_ycogFjWsrAY",
        "outputId": "42b03cd2-3e12-4b90-e006-81958905b7bf"
      },
      "execution_count": 13,
      "outputs": [
        {
          "output_type": "display_data",
          "data": {
            "image/png": "[encoded data removed]",
            "text/plain": [
              "<Figure size 720x720 with 25 Axes>"
            ]
          },
          "metadata": {}
        }
      ]
    },
    {
      "cell_type": "code",
      "source": [
        "#Creating the model (dense model, regular, without convolutional neural networks yet)\n",
        "model = tf.keras.Sequential([\n",
        "    tf.keras.layers.Conv2D(32, (3,3), input_shape=(28,28,1), activation='relu'),\n",
        "    tf.keras.layers.MaxPooling2D(2,2), #2,2 size of the matrix\n",
        "\n",
        "    tf.keras.layers.Conv2D(64, (3,3), activation='relu'),\n",
        "    tf.keras.layers.MaxPooling2D(2,2), #2,2 size of the matrix\n",
        "\n",
        "    tf.keras.layers.Flatten(),\n",
        "    tf.keras.layers.Dense(units=100, activation='relu'),\n",
        "    tf.keras.layers.Dense(10, activation='softmax')\n",
        "])\n",
        "\n",
        "#Compiling the model\n",
        "model.compile(\n",
        "    optimizer='adam',\n",
        "    loss=tf.keras.losses.SparseCategoricalCrossentropy(),\n",
        "    metrics=['accuracy']\n",
        ")"
      ],
      "metadata": {
        "id": "CBp3WsLgstVL"
      },
      "execution_count": 14,
      "outputs": []
    },
    {
      "cell_type": "code",
      "source": [
        "#Splitting training and testing data (60k y 10k)\n",
        "num_data_training = metadata.splits[\"train\"].num_examples\n",
        "num_data_testing = metadata.splits[\"test\"].num_examples\n",
        "\n",
        "#Batch work allows training with large amount of data to be done more efficiently\n",
        "SIZE_BATCH = 32\n",
        "\n",
        "#Shuffle y repeat data are randomly shuffled so that the network not learns the right way of the things\n",
        "data_training = data_training.repeat().shuffle(num_data_training).batch(SIZE_BATCH)\n",
        "data_testing = data_testing.batch(SIZE_BATCH)"
      ],
      "metadata": {
        "id": "Nap0IElRtsIP"
      },
      "execution_count": 15,
      "outputs": []
    },
    {
      "cell_type": "code",
      "source": [
        "#Training\n",
        "import math\n",
        "\n",
        "history = model.fit(\n",
        "    data_training,\n",
        "    epochs=60,\n",
        "    steps_per_epoch=math.ceil(num_data_training/SIZE_BATCH)\n",
        ")"
      ],
      "metadata": {
        "colab": {
          "base_uri": "https://localhost:8080/"
        },
        "id": "cb-3xoO1tvT-",
        "outputId": "e27ad7d0-f032-46dd-f37e-ea80172d548e"
      },
      "execution_count": 16,
      "outputs": [
        {
          "output_type": "stream",
          "name": "stdout",
          "text": [
            "Epoch 1/60\n",
            "1875/1875 [==============================] - 27s 6ms/step - loss: 0.1291 - accuracy: 0.9599\n",
            "Epoch 2/60\n",
            "1875/1875 [==============================] - 11s 6ms/step - loss: 0.0418 - accuracy: 0.9869\n",
            "Epoch 3/60\n",
            "1875/1875 [==============================] - 11s 6ms/step - loss: 0.0292 - accuracy: 0.9909\n",
            "Epoch 4/60\n",
            "1875/1875 [==============================] - 11s 6ms/step - loss: 0.0202 - accuracy: 0.9934\n",
            "Epoch 5/60\n",
            "1875/1875 [==============================] - 11s 6ms/step - loss: 0.0154 - accuracy: 0.9949\n",
            "Epoch 6/60\n",
            "1875/1875 [==============================] - 11s 6ms/step - loss: 0.0125 - accuracy: 0.9960\n",
            "Epoch 7/60\n",
            "1875/1875 [==============================] - 11s 6ms/step - loss: 0.0101 - accuracy: 0.9969\n",
            "Epoch 8/60\n",
            "1875/1875 [==============================] - 11s 6ms/step - loss: 0.0079 - accuracy: 0.9976\n",
            "Epoch 9/60\n",
            "1875/1875 [==============================] - 11s 6ms/step - loss: 0.0072 - accuracy: 0.9974\n",
            "Epoch 10/60\n",
            "1875/1875 [==============================] - 11s 6ms/step - loss: 0.0052 - accuracy: 0.9984\n",
            "Epoch 11/60\n",
            "1875/1875 [==============================] - 11s 6ms/step - loss: 0.0059 - accuracy: 0.9979\n",
            "Epoch 12/60\n",
            "1875/1875 [==============================] - 11s 6ms/step - loss: 0.0044 - accuracy: 0.9985\n",
            "Epoch 13/60\n",
            "1875/1875 [==============================] - 11s 6ms/step - loss: 0.0051 - accuracy: 0.9982\n",
            "Epoch 14/60\n",
            "1875/1875 [==============================] - 11s 6ms/step - loss: 0.0039 - accuracy: 0.9987\n",
            "Epoch 15/60\n",
            "1875/1875 [==============================] - 11s 6ms/step - loss: 0.0033 - accuracy: 0.9991\n",
            "Epoch 16/60\n",
            "1875/1875 [==============================] - 11s 6ms/step - loss: 0.0037 - accuracy: 0.9988\n",
            "Epoch 17/60\n",
            "1875/1875 [==============================] - 11s 6ms/step - loss: 0.0033 - accuracy: 0.9989\n",
            "Epoch 18/60\n",
            "1875/1875 [==============================] - 11s 6ms/step - loss: 0.0035 - accuracy: 0.9990\n",
            "Epoch 19/60\n",
            "1875/1875 [==============================] - 11s 6ms/step - loss: 0.0036 - accuracy: 0.9990\n",
            "Epoch 20/60\n",
            "1875/1875 [==============================] - 11s 6ms/step - loss: 0.0031 - accuracy: 0.9990\n",
            "Epoch 21/60\n",
            "1875/1875 [==============================] - 11s 6ms/step - loss: 0.0027 - accuracy: 0.9992\n",
            "Epoch 22/60\n",
            "1875/1875 [==============================] - 11s 6ms/step - loss: 0.0026 - accuracy: 0.9992\n",
            "Epoch 23/60\n",
            "1875/1875 [==============================] - 11s 6ms/step - loss: 0.0033 - accuracy: 0.9990\n",
            "Epoch 24/60\n",
            "1875/1875 [==============================] - 11s 6ms/step - loss: 0.0023 - accuracy: 0.9993\n",
            "Epoch 25/60\n",
            "1875/1875 [==============================] - 11s 6ms/step - loss: 0.0018 - accuracy: 0.9995\n",
            "Epoch 26/60\n",
            "1875/1875 [==============================] - 11s 6ms/step - loss: 0.0023 - accuracy: 0.9994\n",
            "Epoch 27/60\n",
            "1875/1875 [==============================] - 11s 6ms/step - loss: 0.0031 - accuracy: 0.9992\n",
            "Epoch 28/60\n",
            "1875/1875 [==============================] - 11s 6ms/step - loss: 0.0024 - accuracy: 0.9993\n",
            "Epoch 29/60\n",
            "1875/1875 [==============================] - 11s 6ms/step - loss: 0.0030 - accuracy: 0.9992\n",
            "Epoch 30/60\n",
            "1875/1875 [==============================] - 11s 6ms/step - loss: 0.0024 - accuracy: 0.9994\n",
            "Epoch 31/60\n",
            "1875/1875 [==============================] - 11s 6ms/step - loss: 0.0025 - accuracy: 0.9992\n",
            "Epoch 32/60\n",
            "1875/1875 [==============================] - 11s 6ms/step - loss: 0.0026 - accuracy: 0.9993\n",
            "Epoch 33/60\n",
            "1875/1875 [==============================] - 11s 6ms/step - loss: 0.0024 - accuracy: 0.9993\n",
            "Epoch 34/60\n",
            "1875/1875 [==============================] - 11s 6ms/step - loss: 0.0021 - accuracy: 0.9994\n",
            "Epoch 35/60\n",
            "1875/1875 [==============================] - 11s 6ms/step - loss: 0.0023 - accuracy: 0.9995\n",
            "Epoch 36/60\n",
            "1875/1875 [==============================] - 11s 6ms/step - loss: 0.0020 - accuracy: 0.9995\n",
            "Epoch 37/60\n",
            "1875/1875 [==============================] - 11s 6ms/step - loss: 0.0027 - accuracy: 0.9994\n",
            "Epoch 38/60\n",
            "1875/1875 [==============================] - 11s 6ms/step - loss: 0.0022 - accuracy: 0.9994\n",
            "Epoch 39/60\n",
            "1875/1875 [==============================] - 11s 6ms/step - loss: 0.0014 - accuracy: 0.9996\n",
            "Epoch 40/60\n",
            "1875/1875 [==============================] - 11s 6ms/step - loss: 0.0018 - accuracy: 0.9995\n",
            "Epoch 41/60\n",
            "1875/1875 [==============================] - 11s 6ms/step - loss: 0.0024 - accuracy: 0.9994\n",
            "Epoch 42/60\n",
            "1875/1875 [==============================] - 11s 6ms/step - loss: 0.0018 - accuracy: 0.9995\n",
            "Epoch 43/60\n",
            "1875/1875 [==============================] - 11s 6ms/step - loss: 0.0030 - accuracy: 0.9992\n",
            "Epoch 44/60\n",
            "1875/1875 [==============================] - 11s 6ms/step - loss: 0.0030 - accuracy: 0.9991\n",
            "Epoch 45/60\n",
            "1875/1875 [==============================] - 11s 6ms/step - loss: 0.0012 - accuracy: 0.9995\n",
            "Epoch 46/60\n",
            "1875/1875 [==============================] - 11s 6ms/step - loss: 0.0012 - accuracy: 0.9997\n",
            "Epoch 47/60\n",
            "1875/1875 [==============================] - 11s 6ms/step - loss: 0.0032 - accuracy: 0.9992\n",
            "Epoch 48/60\n",
            "1875/1875 [==============================] - 11s 6ms/step - loss: 0.0023 - accuracy: 0.9994\n",
            "Epoch 49/60\n",
            "1875/1875 [==============================] - 11s 6ms/step - loss: 0.0020 - accuracy: 0.9996\n",
            "Epoch 50/60\n",
            "1875/1875 [==============================] - 11s 6ms/step - loss: 0.0019 - accuracy: 0.9996\n",
            "Epoch 51/60\n",
            "1875/1875 [==============================] - 11s 6ms/step - loss: 2.2484e-05 - accuracy: 1.0000\n",
            "Epoch 52/60\n",
            "1875/1875 [==============================] - 11s 6ms/step - loss: 0.0044 - accuracy: 0.9992\n",
            "Epoch 53/60\n",
            "1875/1875 [==============================] - 11s 6ms/step - loss: 0.0020 - accuracy: 0.9995\n",
            "Epoch 54/60\n",
            "1875/1875 [==============================] - 11s 6ms/step - loss: 0.0023 - accuracy: 0.9993\n",
            "Epoch 55/60\n",
            "1875/1875 [==============================] - 11s 6ms/step - loss: 5.3450e-04 - accuracy: 0.9998\n",
            "Epoch 56/60\n",
            "1875/1875 [==============================] - 11s 6ms/step - loss: 0.0045 - accuracy: 0.9990\n",
            "Epoch 57/60\n",
            "1875/1875 [==============================] - 11s 6ms/step - loss: 0.0022 - accuracy: 0.9995\n",
            "Epoch 58/60\n",
            "1875/1875 [==============================] - 11s 6ms/step - loss: 7.9422e-04 - accuracy: 0.9998\n",
            "Epoch 59/60\n",
            "1875/1875 [==============================] - 11s 6ms/step - loss: 0.0037 - accuracy: 0.9992\n",
            "Epoch 60/60\n",
            "1875/1875 [==============================] - 11s 6ms/step - loss: 0.0013 - accuracy: 0.9998\n"
          ]
        }
      ]
    },
    {
      "cell_type": "code",
      "source": [
        "#Exporting the h5 model\n",
        "model.save('conv_numbers.h5')\n",
        "\n",
        "#Transforming to tensorflow.js\n",
        "!pip install tensorflowjs\n",
        "\n",
        "!mkdir folder_output\n",
        "\n",
        "!tensorflowjs_converter --input_format keras regular_numbers.h5 folder_output"
      ],
      "metadata": {
        "colab": {
          "base_uri": "https://localhost:8080/"
        },
        "id": "irvHIwust0zI",
        "outputId": "10901f2c-aca6-471c-addb-711bff6556b2"
      },
      "execution_count": 17,
      "outputs": [
        {
          "output_type": "stream",
          "name": "stdout",
          "text": [
            "Collecting tensorflowjs\n",
            "  Downloading tensorflowjs-3.12.0-py3-none-any.whl (77 kB)\n",
            "\u001b[?25l\r\u001b[K     |████▎                           | 10 kB 22.4 MB/s eta 0:00:01\r\u001b[K     |████████▌                       | 20 kB 25.1 MB/s eta 0:00:01\r\u001b[K     |████████████▊                   | 30 kB 29.7 MB/s eta 0:00:01\r\u001b[K     |█████████████████               | 40 kB 31.7 MB/s eta 0:00:01\r\u001b[K     |█████████████████████▏          | 51 kB 5.6 MB/s eta 0:00:01\r\u001b[K     |█████████████████████████▍      | 61 kB 6.5 MB/s eta 0:00:01\r\u001b[K     |█████████████████████████████▊  | 71 kB 7.4 MB/s eta 0:00:01\r\u001b[K     |████████████████████████████████| 77 kB 3.5 MB/s \n",
            "\u001b[?25hRequirement already satisfied: tensorflow<3,>=2.1.0 in /usr/local/lib/python3.7/dist-packages (from tensorflowjs) (2.7.0)\n",
            "Requirement already satisfied: tensorflow-hub<0.13,>=0.7.0 in /usr/local/lib/python3.7/dist-packages (from tensorflowjs) (0.12.0)\n",
            "Requirement already satisfied: six<2,>=1.12.0 in /usr/local/lib/python3.7/dist-packages (from tensorflowjs) (1.15.0)\n",
            "Requirement already satisfied: libclang>=9.0.1 in /usr/local/lib/python3.7/dist-packages (from tensorflow<3,>=2.1.0->tensorflowjs) (12.0.0)\n",
            "Requirement already satisfied: wrapt>=1.11.0 in /usr/local/lib/python3.7/dist-packages (from tensorflow<3,>=2.1.0->tensorflowjs) (1.13.3)\n",
            "Requirement already satisfied: h5py>=2.9.0 in /usr/local/lib/python3.7/dist-packages (from tensorflow<3,>=2.1.0->tensorflowjs) (3.1.0)\n",
            "Requirement already satisfied: opt-einsum>=2.3.2 in /usr/local/lib/python3.7/dist-packages (from tensorflow<3,>=2.1.0->tensorflowjs) (3.3.0)\n",
            "Requirement already satisfied: google-pasta>=0.1.1 in /usr/local/lib/python3.7/dist-packages (from tensorflow<3,>=2.1.0->tensorflowjs) (0.2.0)\n",
            "Requirement already satisfied: keras-preprocessing>=1.1.1 in /usr/local/lib/python3.7/dist-packages (from tensorflow<3,>=2.1.0->tensorflowjs) (1.1.2)\n",
            "Requirement already satisfied: astunparse>=1.6.0 in /usr/local/lib/python3.7/dist-packages (from tensorflow<3,>=2.1.0->tensorflowjs) (1.6.3)\n",
            "Requirement already satisfied: protobuf>=3.9.2 in /usr/local/lib/python3.7/dist-packages (from tensorflow<3,>=2.1.0->tensorflowjs) (3.17.3)\n",
            "Requirement already satisfied: flatbuffers<3.0,>=1.12 in /usr/local/lib/python3.7/dist-packages (from tensorflow<3,>=2.1.0->tensorflowjs) (2.0)\n",
            "Requirement already satisfied: tensorflow-estimator<2.8,~=2.7.0rc0 in /usr/local/lib/python3.7/dist-packages (from tensorflow<3,>=2.1.0->tensorflowjs) (2.7.0)\n",
            "Requirement already satisfied: termcolor>=1.1.0 in /usr/local/lib/python3.7/dist-packages (from tensorflow<3,>=2.1.0->tensorflowjs) (1.1.0)\n",
            "Requirement already satisfied: tensorboard~=2.6 in /usr/local/lib/python3.7/dist-packages (from tensorflow<3,>=2.1.0->tensorflowjs) (2.7.0)\n",
            "Requirement already satisfied: grpcio<2.0,>=1.24.3 in /usr/local/lib/python3.7/dist-packages (from tensorflow<3,>=2.1.0->tensorflowjs) (1.42.0)\n",
            "Requirement already satisfied: keras<2.8,>=2.7.0rc0 in /usr/local/lib/python3.7/dist-packages (from tensorflow<3,>=2.1.0->tensorflowjs) (2.7.0)\n",
            "Requirement already satisfied: typing-extensions>=3.6.6 in /usr/local/lib/python3.7/dist-packages (from tensorflow<3,>=2.1.0->tensorflowjs) (3.10.0.2)\n",
            "Requirement already satisfied: numpy>=1.14.5 in /usr/local/lib/python3.7/dist-packages (from tensorflow<3,>=2.1.0->tensorflowjs) (1.19.5)\n",
            "Requirement already satisfied: wheel<1.0,>=0.32.0 in /usr/local/lib/python3.7/dist-packages (from tensorflow<3,>=2.1.0->tensorflowjs) (0.37.0)\n",
            "Requirement already satisfied: tensorflow-io-gcs-filesystem>=0.21.0 in /usr/local/lib/python3.7/dist-packages (from tensorflow<3,>=2.1.0->tensorflowjs) (0.22.0)\n",
            "Requirement already satisfied: absl-py>=0.4.0 in /usr/local/lib/python3.7/dist-packages (from tensorflow<3,>=2.1.0->tensorflowjs) (0.12.0)\n",
            "Requirement already satisfied: gast<0.5.0,>=0.2.1 in /usr/local/lib/python3.7/dist-packages (from tensorflow<3,>=2.1.0->tensorflowjs) (0.4.0)\n",
            "Requirement already satisfied: cached-property in /usr/local/lib/python3.7/dist-packages (from h5py>=2.9.0->tensorflow<3,>=2.1.0->tensorflowjs) (1.5.2)\n",
            "Requirement already satisfied: google-auth<3,>=1.6.3 in /usr/local/lib/python3.7/dist-packages (from tensorboard~=2.6->tensorflow<3,>=2.1.0->tensorflowjs) (1.35.0)\n",
            "Requirement already satisfied: tensorboard-data-server<0.7.0,>=0.6.0 in /usr/local/lib/python3.7/dist-packages (from tensorboard~=2.6->tensorflow<3,>=2.1.0->tensorflowjs) (0.6.1)\n",
            "Requirement already satisfied: markdown>=2.6.8 in /usr/local/lib/python3.7/dist-packages (from tensorboard~=2.6->tensorflow<3,>=2.1.0->tensorflowjs) (3.3.6)\n",
            "Requirement already satisfied: tensorboard-plugin-wit>=1.6.0 in /usr/local/lib/python3.7/dist-packages (from tensorboard~=2.6->tensorflow<3,>=2.1.0->tensorflowjs) (1.8.0)\n",
            "Requirement already satisfied: google-auth-oauthlib<0.5,>=0.4.1 in /usr/local/lib/python3.7/dist-packages (from tensorboard~=2.6->tensorflow<3,>=2.1.0->tensorflowjs) (0.4.6)\n",
            "Requirement already satisfied: werkzeug>=0.11.15 in /usr/local/lib/python3.7/dist-packages (from tensorboard~=2.6->tensorflow<3,>=2.1.0->tensorflowjs) (1.0.1)\n",
            "Requirement already satisfied: requests<3,>=2.21.0 in /usr/local/lib/python3.7/dist-packages (from tensorboard~=2.6->tensorflow<3,>=2.1.0->tensorflowjs) (2.23.0)\n",
            "Requirement already satisfied: setuptools>=41.0.0 in /usr/local/lib/python3.7/dist-packages (from tensorboard~=2.6->tensorflow<3,>=2.1.0->tensorflowjs) (57.4.0)\n",
            "Requirement already satisfied: pyasn1-modules>=0.2.1 in /usr/local/lib/python3.7/dist-packages (from google-auth<3,>=1.6.3->tensorboard~=2.6->tensorflow<3,>=2.1.0->tensorflowjs) (0.2.8)\n",
            "Requirement already satisfied: rsa<5,>=3.1.4 in /usr/local/lib/python3.7/dist-packages (from google-auth<3,>=1.6.3->tensorboard~=2.6->tensorflow<3,>=2.1.0->tensorflowjs) (4.8)\n",
            "Requirement already satisfied: cachetools<5.0,>=2.0.0 in /usr/local/lib/python3.7/dist-packages (from google-auth<3,>=1.6.3->tensorboard~=2.6->tensorflow<3,>=2.1.0->tensorflowjs) (4.2.4)\n",
            "Requirement already satisfied: requests-oauthlib>=0.7.0 in /usr/local/lib/python3.7/dist-packages (from google-auth-oauthlib<0.5,>=0.4.1->tensorboard~=2.6->tensorflow<3,>=2.1.0->tensorflowjs) (1.3.0)\n",
            "Requirement already satisfied: importlib-metadata>=4.4 in /usr/local/lib/python3.7/dist-packages (from markdown>=2.6.8->tensorboard~=2.6->tensorflow<3,>=2.1.0->tensorflowjs) (4.8.2)\n",
            "Requirement already satisfied: zipp>=0.5 in /usr/local/lib/python3.7/dist-packages (from importlib-metadata>=4.4->markdown>=2.6.8->tensorboard~=2.6->tensorflow<3,>=2.1.0->tensorflowjs) (3.6.0)\n",
            "Requirement already satisfied: pyasn1<0.5.0,>=0.4.6 in /usr/local/lib/python3.7/dist-packages (from pyasn1-modules>=0.2.1->google-auth<3,>=1.6.3->tensorboard~=2.6->tensorflow<3,>=2.1.0->tensorflowjs) (0.4.8)\n",
            "Requirement already satisfied: urllib3!=1.25.0,!=1.25.1,<1.26,>=1.21.1 in /usr/local/lib/python3.7/dist-packages (from requests<3,>=2.21.0->tensorboard~=2.6->tensorflow<3,>=2.1.0->tensorflowjs) (1.24.3)\n",
            "Requirement already satisfied: certifi>=2017.4.17 in /usr/local/lib/python3.7/dist-packages (from requests<3,>=2.21.0->tensorboard~=2.6->tensorflow<3,>=2.1.0->tensorflowjs) (2021.10.8)\n",
            "Requirement already satisfied: chardet<4,>=3.0.2 in /usr/local/lib/python3.7/dist-packages (from requests<3,>=2.21.0->tensorboard~=2.6->tensorflow<3,>=2.1.0->tensorflowjs) (3.0.4)\n",
            "Requirement already satisfied: idna<3,>=2.5 in /usr/local/lib/python3.7/dist-packages (from requests<3,>=2.21.0->tensorboard~=2.6->tensorflow<3,>=2.1.0->tensorflowjs) (2.10)\n",
            "Requirement already satisfied: oauthlib>=3.0.0 in /usr/local/lib/python3.7/dist-packages (from requests-oauthlib>=0.7.0->google-auth-oauthlib<0.5,>=0.4.1->tensorboard~=2.6->tensorflow<3,>=2.1.0->tensorflowjs) (3.1.1)\n",
            "Installing collected packages: tensorflowjs\n",
            "Successfully installed tensorflowjs-3.12.0\n",
            "Traceback (most recent call last):\n",
            "  File \"/usr/local/bin/tensorflowjs_converter\", line 8, in <module>\n",
            "    sys.exit(pip_main())\n",
            "  File \"/usr/local/lib/python3.7/dist-packages/tensorflowjs/converters/converter.py\", line 813, in pip_main\n",
            "    main([' '.join(sys.argv[1:])])\n",
            "  File \"/usr/local/lib/python3.7/dist-packages/tensorflowjs/converters/converter.py\", line 817, in main\n",
            "    convert(argv[0].split(' '))\n",
            "  File \"/usr/local/lib/python3.7/dist-packages/tensorflowjs/converters/converter.py\", line 804, in convert\n",
            "    weight_shard_size_bytes, metadata_map)\n",
            "  File \"/usr/local/lib/python3.7/dist-packages/tensorflowjs/converters/converter.py\", line 501, in _dispatch_converter\n",
            "    metadata=metadata_map)\n",
            "  File \"/usr/local/lib/python3.7/dist-packages/tensorflowjs/converters/converter.py\", line 76, in dispatch_keras_h5_to_tfjs_layers_model_conversion\n",
            "    raise ValueError('Nonexistent path to HDF5 file: %s' % h5_path)\n",
            "ValueError: Nonexistent path to HDF5 file: regular_numbers.h5\n"
          ]
        }
      ]
    }
  ]
}